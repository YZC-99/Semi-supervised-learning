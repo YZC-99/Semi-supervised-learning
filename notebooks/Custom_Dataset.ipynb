{
 "cells": [
  {
   "cell_type": "markdown",
   "metadata": {
    "collapsed": true,
    "pycharm": {
     "name": "#%% md\n"
    }
   },
   "source": [
    "# Custom Dataset"
   ]
  },
  {
   "cell_type": "markdown",
   "source": [
    "## In this tutorial, we provide an example of using custom dataset."
   ],
   "metadata": {
    "collapsed": false,
    "pycharm": {
     "name": "#%% md\n"
    }
   }
  },
  {
   "cell_type": "code",
   "execution_count": null,
   "outputs": [],
   "source": [
    "import sys\n",
    "sys.path.append('../')\n",
    "import numpy as np\n",
    "from torchvision import transforms\n",
    "from src import get_data_loader, net_builder, get_algorithm, get_config, Trainer\n",
    "from src import split_ssl_data, BasicDataset"
   ],
   "metadata": {
    "collapsed": false,
    "pycharm": {
     "name": "#%%\n"
    }
   }
  },
  {
   "cell_type": "markdown",
   "source": [
    "## Specifiy configs and define the model"
   ],
   "metadata": {
    "collapsed": false,
    "pycharm": {
     "name": "#%% md\n"
    }
   }
  },
  {
   "cell_type": "code",
   "execution_count": null,
   "outputs": [],
   "source": [
    "# define configs and create config\n",
    "config = {\n",
    "    'algorithm': 'fixmatch',\n",
    "    'net': 'wrn_28_2',\n",
    "    'use_pretrain': False,  # todo: add pretrain\n",
    "\n",
    "    # optimization configs\n",
    "    'epoch': 3,\n",
    "    'num_train_iter': 150,\n",
    "    'num_eval_iter': 50,\n",
    "    'optim': 'SGD',\n",
    "    'lr': 0.03,\n",
    "    'momentum': 0.9,\n",
    "    'batch_size': 64,\n",
    "    'eval_batch_size': 64,\n",
    "\n",
    "    # dataset configs\n",
    "    'dataset': 'none',\n",
    "    'num_labels': 40,\n",
    "    'num_classes': 10,\n",
    "    'input_size': 32,\n",
    "    'data_dir': './data',\n",
    "\n",
    "    # algorithm specific configs\n",
    "    'hard_label': True,\n",
    "    'uratio': 3,\n",
    "    'ulb_loss_ratio': 1.0,\n",
    "\n",
    "    # device configs\n",
    "    'gpu': 0,\n",
    "    'world_size': 1,\n",
    "    'distributed': False,\n",
    "}\n",
    "config = get_config(config)"
   ],
   "metadata": {
    "collapsed": false,
    "pycharm": {
     "name": "#%%\n"
    }
   }
  },
  {
   "cell_type": "code",
   "execution_count": null,
   "outputs": [],
   "source": [
    "# create model and specify algorithm\n",
    "algorithm = get_algorithm(config,  net_builder(config.net, from_name=False), tb_log=None, logger=None)"
   ],
   "metadata": {
    "collapsed": false,
    "pycharm": {
     "name": "#%%\n"
    }
   }
  },
  {
   "cell_type": "markdown",
   "source": [
    "## Create dataset"
   ],
   "metadata": {
    "collapsed": false,
    "pycharm": {
     "name": "#%% md\n"
    }
   }
  },
  {
   "cell_type": "code",
   "execution_count": null,
   "outputs": [],
   "source": [
    "# replace with your own code\n",
    "data = np.random.randint(0, 255, size=3072 * 1000).reshape((-1, 32, 32, 3))\n",
    "data = np.uint8(data)\n",
    "target = np.random.randint(0, 10, size=1000)\n",
    "lb_data, lb_target, ulb_data, ulb_target = split_ssl_data(config, data, target,\n",
    "                                                          num_labels=config.num_labels,\n",
    "                                                          num_classes=config.num_classes)\n",
    "\n",
    "train_transform = transforms.Compose([transforms.RandomHorizontalFlip(),\n",
    "                                      transforms.RandomCrop(32, padding=int(32 * 0.125), padding_mode='reflect'),\n",
    "                                      transforms.ToTensor(),\n",
    "                                      transforms.Normalize([0.5, 0.5, 0.5], [0.5, 0.5, 0.5])])\n",
    "\n",
    "lb_dataset = BasicDataset(config.algorithm, lb_data, lb_target, config.num_classes, train_transform, is_ulb=False)\n",
    "ulb_dataset = BasicDataset(config.algorithm, lb_data, lb_target, config.num_classes, train_transform, is_ulb=True)"
   ],
   "metadata": {
    "collapsed": false,
    "pycharm": {
     "name": "#%%\n"
    }
   }
  },
  {
   "cell_type": "code",
   "execution_count": null,
   "outputs": [],
   "source": [
    "# replace with your own code\n",
    "eval_data = np.random.randint(0, 255, size=3072 * 100).reshape((-1, 32, 32, 3))\n",
    "eval_data = np.uint8(eval_data)\n",
    "eval_target = np.random.randint(0, 10, size=100)\n",
    "\n",
    "eval_transform = transforms.Compose([transforms.Resize(32),\n",
    "                                      transforms.ToTensor(),\n",
    "                                      transforms.Normalize([0.5, 0.5, 0.5], [0.5, 0.5, 0.5])])\n",
    "\n",
    "eval_dataset = BasicDataset(config.algorithm, lb_data, lb_target, config.num_classes, eval_transform, is_ulb=False)"
   ],
   "metadata": {
    "collapsed": false,
    "pycharm": {
     "name": "#%%\n"
    }
   }
  },
  {
   "cell_type": "code",
   "execution_count": null,
   "outputs": [],
   "source": [
    "# define data loaders\n",
    "train_lb_loader = get_data_loader(config, lb_dataset, config.batch_size)\n",
    "train_ulb_loader = get_data_loader(config, ulb_dataset, int(config.batch_size * config.uratio))\n",
    "eval_loader = get_data_loader(config, eval_dataset, config.eval_batch_size)"
   ],
   "metadata": {
    "collapsed": false,
    "pycharm": {
     "name": "#%%\n"
    }
   }
  },
  {
   "cell_type": "markdown",
   "source": [
    "## Training and evaluation"
   ],
   "metadata": {
    "collapsed": false,
    "pycharm": {
     "name": "#%% md\n"
    }
   }
  },
  {
   "cell_type": "code",
   "execution_count": null,
   "outputs": [],
   "source": [
    "# training and evaluation\n",
    "trainer = Trainer(config, algorithm)\n",
    "trainer.fit(train_lb_loader, train_ulb_loader, eval_loader)\n",
    "trainer.evaluate(eval_loader)"
   ],
   "metadata": {
    "collapsed": false,
    "pycharm": {
     "name": "#%%\n"
    }
   }
  }
 ],
 "metadata": {
  "kernelspec": {
   "display_name": "Python 3",
   "language": "python",
   "name": "python3"
  },
  "language_info": {
   "codemirror_mode": {
    "name": "ipython",
    "version": 2
   },
   "file_extension": ".py",
   "mimetype": "text/x-python",
   "name": "python",
   "nbconvert_exporter": "python",
   "pygments_lexer": "ipython2",
   "version": "2.7.6"
  }
 },
 "nbformat": 4,
 "nbformat_minor": 0
}